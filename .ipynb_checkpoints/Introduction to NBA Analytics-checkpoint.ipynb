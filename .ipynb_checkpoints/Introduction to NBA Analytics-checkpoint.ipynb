{
 "cells": [
  {
   "cell_type": "markdown",
   "metadata": {
    "collapsed": true
   },
   "source": [
    "# NBA Analytics With Python"
   ]
  },
  {
   "cell_type": "markdown",
   "metadata": {},
   "source": [
    "Gene Li  \n",
    "B.S.E Electrical Engineering  \n",
    "Princeton University, '19  \n",
    "September 1, 2017  "
   ]
  },
  {
   "cell_type": "markdown",
   "metadata": {},
   "source": [
    "## Introduction"
   ]
  },
  {
   "cell_type": "markdown",
   "metadata": {},
   "source": [
    "This guide was written for students in the [Princeton Sports Analytics](https://princetonsportsanalytics.com/) club. Students just getting into the world of sports analytics have a lot of questions, and this guide will serve as a starting point for understanding the big picture overview of the data science process for getting data, processing it, visualizing it, and applying interesting learning models to it.\n",
    "\n",
    "While this guide was originally written for NBA analytics in mind, it is a good resource for other areas of sport analysis.\n",
    "\n",
    "Any questions, comments, or suggestions can be directed toward the author at gxli@princeton.edu."
   ]
  },
  {
   "cell_type": "markdown",
   "metadata": {},
   "source": [
    "### 1. What are we even doing?"
   ]
  },
  {
   "cell_type": "markdown",
   "metadata": {},
   "source": [
    "Data science, broadly speaking, is the field that uses the scientific method to extract novel insights from data sets. Machine learning, a subset of data science, uses data to generate interesting predictions, classifications, and decisions. While certain [figures](https://www.youtube.com/watch?v=NZf9NFaCQHQ) remain staunchly opposed to the use of analytics in the NBA, for the most part, the NBA is embracing the use of analytics and machine learning. For example, a company called [Second Spectrum](https://www.secondspectrum.com/). Second Spectrum is using deep learning models to measure shot efficiency and classify pick-and-roll defensive schemes. I recommend [this ted talk](https://www.ted.com/talks/rajiv_maheswaran_the_math_behind_basketball_s_wildest_moves).\n",
    "\n",
    "The main tool we will use in data science is the programming language Python. While data scientists use a broad range of tools, ranging from Excel, MATLAB, Python, and R, Python offers a few key advantages, namely being very flexible and easy to learn. For more information about Python, please to the Python [website](http://kevindurant.com/).\n",
    "\n",
    "Wrong link, go [here](https://www.python.org/) instead.\n",
    "\n",
    "Python also has the benefit of allowing users to use \"IPython notebooks\" - think of these as the programming equivalent of lab notebooks you would use in a traditional science class. These notebooks can be shared with others, and it's easy to view and modify the steps that are performed in the data science process. In fact, this guide is an IPython notebook. More information about IPython notebooks can be found [here](https://ipython.org/notebook.html).\n",
    "\n",
    "Python's main library for data science is the pandas library - which provides high performance functionality and data science tools for Python. pandas helps bridge the gap from data preparation to data analysis and modeling. pandas functionality can be imported as easily as this one-liner:"
   ]
  },
  {
   "cell_type": "code",
   "execution_count": 9,
   "metadata": {
    "collapsed": true
   },
   "outputs": [],
   "source": [
    "import pandas"
   ]
  },
  {
   "cell_type": "markdown",
   "metadata": {},
   "source": [
    "Documentation on pandas can be found [here](https://pandas.pydata.org/pandas-docs/stable/)."
   ]
  },
  {
   "cell_type": "markdown",
   "metadata": {},
   "source": [
    "### 2. Take that for Data"
   ]
  },
  {
   "cell_type": "markdown",
   "metadata": {},
   "source": [
    "At this point, you may have some fuzzy question that you want to have answered, i.e. how do we measure defensive ability? Don't be worried if this question isn't exact - you will have many opportunities to refine it as you go along. Just trust the process here.\n",
    "\n",
    "The first step is to get as much quality NBA data as you can. The bigger the data, the better. This is not as easy as it sounds. You'll almost never find clean, processed data in the wild. Often times, you'll have to scrape it from different reference sources.\n",
    "\n",
    "The best possible scenario is that the NBA has a public, well documented API for getting as much data as you could possibly need. Unfortunately, they don't, so we will have to settle for grit n' grind methods. Generally, you will need to query a stats.nba.com or basketball-reference.com endpoint with some parameters, and you'll get a JSON back with data. Unfortunately, the REST APIs for stats.nba.com and basketball-reference hav no documentation, so it's up to the user to figure out 1) what endpoints to query, 2) what sort of parameters these endpoints take, 3) what the resulting data looks like. \n",
    "\n",
    "1) Using various APIs for stats.nba.com and basketball reference: A variety of python-facing APIs exist for querying stats.nba.com and basketball-reference.com. A quick google search will give you a few options. Since many of these APIs are not in a mature development stage, I will not devote much time to them. However, the aspiring NBA data scraper may find them useful. \n",
    "\n",
    "2) Someone on the internet put together a nice Swagger UI that documents a large portion of the endpoints of stats.nba.com API [here](http://danielwelch.github.io/little-pynny/). Documentation can be found [here](http://danielwelch.github.io/documenting-the-nba-stats-api.html). The issue with this is that even though the endpoints and parameters are documented, we still don't know exactly what the endpoints give us and what type of values for the parameters we need to provide. Let's try to get some player statistics."
   ]
  },
  {
   "cell_type": "code",
   "execution_count": 10,
   "metadata": {
    "collapsed": true
   },
   "outputs": [],
   "source": [
    "import requests\n",
    "import pandas as pd\n",
    "import os"
   ]
  },
  {
   "cell_type": "code",
   "execution_count": 11,
   "metadata": {
    "collapsed": true
   },
   "outputs": [],
   "source": [
    "# we will be making a request to the NBA API, so we have to pretend we are a browser by setting this user agent header.\n",
    "user_agent_headers = {'user-agent':\n",
    "    'Mozilla/5.0 (Macintosh; Intel Mac OS X 10_12_1) AppleWebKit/537.36 (KHTML, like Gecko) Chrome/55.0.2883.95 Safari/537.36'}\n",
    "\n",
    "# this is the base url for player statistics.\n",
    "baseURL_playerstat = 'http://stats.nba.com/stats/leaguedashplayerstats?'\n",
    "\n",
    "\n",
    "# we also need some parameters.\n",
    "parameters_playerstat = {\n",
    "            'College': '',\n",
    "            'Conference': '',\n",
    "            'Country': '',\n",
    "            'DateFrom': '',\n",
    "            'DateTo': '',\n",
    "            'Division': '',\n",
    "            'DraftPick': '',\n",
    "            'DraftYear': '',\n",
    "            'GameScope': '',\n",
    "            'GameSegment': '',\n",
    "            'Height': '',\n",
    "            'LastNGames': 0,\n",
    "            'LeagueID': '00',\n",
    "            'Location': '',\n",
    "            'MeasureType': 'Base',\n",
    "            'Month': 0,\n",
    "            'OpponentTeamID': 0,\n",
    "            'Outcome': '',\n",
    "            'PORound': 0,\n",
    "            'PaceAdjust': 'N',\n",
    "            'PerMode': 'PerGame',\n",
    "            'Period': 0,\n",
    "            'PlayerExperience': '',\n",
    "            'PlayerPosition': '',\n",
    "            'PlusMinus': 'N',\n",
    "            'Rank': 'N',\n",
    "            'Season': '2016-17',\n",
    "            'SeasonSegment': '',\n",
    "            'SeasonType': 'Regular Season',\n",
    "            'ShotClockRange': '',\n",
    "            'StarterBench': '',\n",
    "            'TeamID': 0,\n",
    "            'VsConference': '',\n",
    "            'VsDivision': '',\n",
    "            'Weight': '',\n",
    "        }"
   ]
  },
  {
   "cell_type": "code",
   "execution_count": 12,
   "metadata": {
    "collapsed": true
   },
   "outputs": [],
   "source": [
    "# returns dataframe given base url, parameters.\n",
    "def scrapeURL(baseURL, parameters):\n",
    "    response = requests.get(baseURL, params=parameters, headers=user_agent_headers)\n",
    "    response.raise_for_status()\n",
    "    headers = response.json()['resultSets'][0]['headers']\n",
    "    stats = response.json()['resultSets'][0]['rowSet']\n",
    "    stats_df = pd.DataFrame(stats, columns=headers)\n",
    "    stats_df['Season'] = parameters['Season']\n",
    "    stats_df.drop(['CFID', 'CFPARAMS'], axis=1, inplace=True)\n",
    "    return stats_df"
   ]
  },
  {
   "cell_type": "code",
   "execution_count": 1,
   "metadata": {},
   "outputs": [
    {
     "ename": "NameError",
     "evalue": "name 'scrapeURL' is not defined",
     "output_type": "error",
     "traceback": [
      "\u001b[0;31m---------------------------------------------------------------------------\u001b[0m",
      "\u001b[0;31mNameError\u001b[0m                                 Traceback (most recent call last)",
      "\u001b[0;32m<ipython-input-1-c3b9ac62fa1f>\u001b[0m in \u001b[0;36m<module>\u001b[0;34m()\u001b[0m\n\u001b[0;32m----> 1\u001b[0;31m \u001b[0mdf\u001b[0m \u001b[0;34m=\u001b[0m \u001b[0mscrapeURL\u001b[0m\u001b[0;34m(\u001b[0m\u001b[0mbaseURL_playerstat\u001b[0m\u001b[0;34m,\u001b[0m \u001b[0mparameters_playerstat\u001b[0m\u001b[0;34m)\u001b[0m\u001b[0;34m\u001b[0m\u001b[0m\n\u001b[0m\u001b[1;32m      2\u001b[0m \u001b[0mdf\u001b[0m\u001b[0;34m.\u001b[0m\u001b[0mhead\u001b[0m\u001b[0;34m(\u001b[0m\u001b[0;34m)\u001b[0m \u001b[0;31m# D A T A\u001b[0m\u001b[0;34m\u001b[0m\u001b[0m\n",
      "\u001b[0;31mNameError\u001b[0m: name 'scrapeURL' is not defined"
     ]
    }
   ],
   "source": [
    "df = scrapeURL(baseURL_playerstat, parameters_playerstat)\n",
    "df.head() # D A T A "
   ]
  },
  {
   "cell_type": "markdown",
   "metadata": {},
   "source": [
    "3) Manually getting endpoint by inspecting the URL:\n",
    "\n",
    "This is probably a more clear way to get API endpoints, rather than looking at the Swagger documentation. If you find a new endpoint you want to send a request to, you'll need to do some snooping around. \n",
    "\n",
    "For example, lets see what we can do with this web page. http://stats.nba.com/players/traditional/\n",
    "Imagine we want to get all the data from this page. \n",
    "We will need to see what requests are being made to the NBA server. To do so, we will need to bring up Developer Tools in Chrome, navigate to XHR, and refresh the page. You should get something similar to this:\n"
   ]
  },
  {
   "cell_type": "markdown",
   "metadata": {},
   "source": [
    "<img src=\"files/pic1.png\">"
   ]
  },
  {
   "cell_type": "markdown",
   "metadata": {},
   "source": [
    "Now look at the third entry, called \"leaguedashplayerstats?\". That looks promising. If we click on it, we'll get something like this:"
   ]
  },
  {
   "cell_type": "markdown",
   "metadata": {},
   "source": [
    "<img src=\"files/pic2.png\">"
   ]
  },
  {
   "cell_type": "markdown",
   "metadata": {},
   "source": [
    "Parameters are the input parameters to the HTTP request that is sent whenever we load the page. The result set is the actual data returned. Take a look at these. If you want to see the whole JSON file that is returned, go to the \"Headers\" tab in the window above and copy paste the request URL into your browser. You may want to use some browser extension that formats JSON.\n",
    "\n",
    "By snooping around using developer tools, you can basically figure out how to scrape any web page that is making API calls to some backend server. "
   ]
  },
  {
   "cell_type": "markdown",
   "metadata": {},
   "source": [
    "4) Haven't really looked into this, but perhaps the scraping process can be automated with a framework like [Scrapy](https://scrapy.org/).\n",
    "\n",
    "5) SportVU is a camera system that is installed in all NBA stadiums that provides player and ball position data at a resolution of 25 frames per second. For the serious NBA analytics guru, this is probably the best basketball analytics data you can get. The NBA used to provide this data on their website, however, they took it down. Parts of it have been floating around on the [internet](https://github.com/sealneaward/nba-movement-data)."
   ]
  },
  {
   "cell_type": "markdown",
   "metadata": {},
   "source": [
    "### 3. Data Preprocessing"
   ]
  },
  {
   "cell_type": "markdown",
   "metadata": {},
   "source": [
    "We can't really do much with a bunch of JSON files. We should convert these into CSV files. If we truly do have a lot of data, perhaps we should put all the data in a relational database.\n",
    "\n",
    "In python, this is as easy as calling the to_csv method of pandas:"
   ]
  },
  {
   "cell_type": "code",
   "execution_count": 19,
   "metadata": {
    "collapsed": true
   },
   "outputs": [],
   "source": [
    "df.to_csv('sampledata.csv', header=df.columns.values, index=False)"
   ]
  },
  {
   "cell_type": "markdown",
   "metadata": {},
   "source": [
    "### 4. Data Visualization"
   ]
  },
  {
   "cell_type": "markdown",
   "metadata": {},
   "source": [
    "A few options for data visualization exist. The most widely used one is [matplotlib](https://matplotlib.org/), which for those who are familiar with MATLAB, provides similar plotting functionality. On top of that, you have [seaborn](https://seaborn.pydata.org/), which is a high level interface that makes matplotlib graphs more pretty. A third option is [plotly](https://plot.ly/), another graphing library.\n",
    "Let's try plotting something in matplotlib."
   ]
  },
  {
   "cell_type": "code",
   "execution_count": 21,
   "metadata": {
    "collapsed": true
   },
   "outputs": [],
   "source": [
    "import matplotlib.pyplot as plt"
   ]
  },
  {
   "cell_type": "code",
   "execution_count": 25,
   "metadata": {},
   "outputs": [
    {
     "data": {
      "image/png": "[encoded data removed]",
      "text/plain": [
       "<matplotlib.figure.Figure at 0x10c85ce10>"
      ]
     },
     "metadata": {},
     "output_type": "display_data"
    }
   ],
   "source": [
    "# plot field goals made against free throws made\n",
    "plt.scatter(df['FGM'], df['FTM'])\n",
    "plt.show()"
   ]
  },
  {
   "cell_type": "markdown",
   "metadata": {},
   "source": [
    "### 5. Data Science\n",
    "\n",
    "Now we want to do fun stuff with our data: regressions, clusterings, perhaps more advanced machine learning. For sake of brevity, I will omit an introduction to machine learning, however I do recommend the reader familiarize themselves with statistics and machine learning through coursework, books, and online tutorials.\n",
    "\n",
    "1) [scikit-learn](http://scikit-learn.org/stable/): The main package for machine learning in python.  \n",
    "2) Deep learning: Keras, TensorFlow, Theano. These are packages for building more advanced deep learning"
   ]
  }
 ],
 "metadata": {
  "kernelspec": {
   "display_name": "Python 3",
   "language": "python",
   "name": "python3"
  },
  "language_info": {
   "codemirror_mode": {
    "name": "ipython",
    "version": 3
   },
   "file_extension": ".py",
   "mimetype": "text/x-python",
   "name": "python",
   "nbconvert_exporter": "python",
   "pygments_lexer": "ipython3",
   "version": "3.5.1"
  }
 },
 "nbformat": 4,
 "nbformat_minor": 2
}
